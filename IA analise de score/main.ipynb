# Importação das bibliotecas necessárias
import pandas as pd
import numpy as np
from sklearn.model_selection import train_test_split
from sklearn.preprocessing import StandardScaler
from sklearn.linear_model import LogisticRegression
from sklearn.metrics import classification_report, accuracy_score

# Geração de um conjunto de dados fictício
np.random.seed(0)

# Criando dados de exemplo
n = 1000
data = pd.DataFrame({
    'idade': np.random.randint(18, 70, size=n),
    'salario_anual': np.random.randint(20000, 100000, size=n),
    'divida': np.random.randint(0, 20000, size=n),
    'historico_credito': np.random.choice([0, 1], size=n), # 0: mau histórico, 1: bom histórico
    'default': np.random.choice([0, 1], size=n) # 0: não deu calote, 1: deu calote
})

# Definindo a variável dependente (y) e as variáveis independentes (X)
X = data[['idade', 'salario_anual', 'divida', 'historico_credito']]
y = data['default']

# Dividindo os dados em conjuntos de treino e teste
X_train, X_test, y_train, y_test = train_test_split(X, y, test_size=0.3, random_state=0)

# Normalizando as features (opcional, mas melhora a performance de alguns modelos)
scaler = StandardScaler()
X_train_scaled = scaler.fit_transform(X_train)
X_test_scaled = scaler.transform(X_test)

# Criando o modelo de Regressão Logística
model = LogisticRegression()
model.fit(X_train_scaled, y_train)

# Fazendo previsões no conjunto de teste
y_pred = model.predict(X_test_scaled)

# Avaliando o modelo
print("Acurácia:", accuracy_score(y_test, y_pred))
print("\nRelatório de Classificação:\n", classification_report(y_test, y_pred))

# Exemplo de uso: previsões para novos dados
novos_dados = pd.DataFrame({
    'idade': [30, 50],
    'salario_anual': [50000, 120000],
    'divida': [5000, 15000],
    'historico_credito': [1, 0]
})

# Normalizando os novos dados e fazendo previsões
novos_dados_scaled = scaler.transform(novos_dados)
previsoes = model.predict(novos_dados_scaled)

print("\nPrevisões para novos clientes (0 = Não Calote, 1 = Calote):", previsoes)
