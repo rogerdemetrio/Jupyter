{
  "metadata": {
    "kernelspec": {
      "display_name": "Python 3",
      "language": "python",
      "name": "python3"
    },
    "language_info": {
      "codemirror_mode": {
        "name": "ipython",
        "version": 3
      },
      "file_extension": ".py",
      "mimetype": "text/x-python",
      "name": "python",
      "nbconvert_exporter": "python",
      "pygments_lexer": "ipython3",
      "version": "3.9.12"
    }
  },
  "nbformat": 4,
  "nbformat_minor": 5,
  "cells": [
    {
      "cell_type": "code",
      "execution_count": null,
      "id": "import",
      "metadata": {},
      "outputs": [],
      "source": [
        "# Importação das bibliotecas necessárias\n",
        "import pandas as pd\n",
        "import numpy as np\n",
        "from sklearn.model_selection import train_test_split\n",
        "from sklearn.preprocessing import StandardScaler\n",
        "from sklearn.linear_model import LogisticRegression\n",
        "from sklearn.metrics import classification_report, accuracy_score\n"
      ]
    },
    {
      "cell_type": "code",
      "execution_count": null,
      "id": "data-generation",
      "metadata": {},
      "outputs": [],
      "source": [
        "# Geração de um conjunto de dados fictício\n",
        "np.random.seed(0)\n",
        "\n",
        "# Criando dados de exemplo\n",
        "n = 1000\n",
        "data = pd.DataFrame({\n",
        "    'idade': np.random.randint(18, 70, size=n),\n",
        "    'salario_anual': np.random.randint(20000, 100000, size=n),\n",
        "    'divida': np.random.randint(0, 20000, size=n),\n",
        "    'historico_credito': np.random.choice([0, 1], size=n), # 0: mau histórico, 1: bom histórico\n",
        "    'default': np.random.choice([0, 1], size=n) # 0: não deu calote, 1: deu calote\n",
        "})\n",
        "\n",
        "data.head()"
      ]
    },
    {
      "cell_type": "code",
      "execution_count": null,
      "id": "split-data",
      "metadata": {},
      "outputs": [],
      "source": [
        "# Definindo a variável dependente (y) e as variáveis independentes (X)\n",
        "X = data[['idade', 'salario_anual', 'divida', 'historico_credito']]\n",
        "y = data['default']\n",
        "\n",
        "# Dividindo os dados em conjuntos de treino e teste\n",
        "X_train, X_test, y_train, y_test = train_test_split(X, y, test_size=0.3, random_state=0)\n"
      ]
    },
    {
      "cell_type": "code",
      "execution_count": null,
      "id": "scaling",
      "metadata": {},
      "outputs": [],
      "source": [
        "# Normalizando as features (opcional, mas melhora a performance de alguns modelos)\n",
        "scaler = StandardScaler()\n",
        "X_train_scaled = scaler.fit_transform(X_train)\n",
        "X_test_scaled = scaler.transform(X_test)\n"
      ]
    },
    {
      "cell_type": "code",
      "execution_count": null,
      "id": "model-training",
      "metadata": {},
      "outputs": [],
      "source": [
        "# Criando o modelo de Regressão Logística\n",
        "model = LogisticRegression()\n",
        "model.fit(X_train_scaled, y_train)\n",
        "\n",
        "# Fazendo previsões no conjunto de teste\n",
        "y_pred = model.predict(X_test_scaled)\n"
      ]
    },
    {
      "cell_type": "code",
      "execution_count": null,
      "id": "evaluation",
      "metadata": {},
      "outputs": [],
      "source": [
        "# Avaliando o modelo\n",
        "print(\"Acurácia:\", accuracy_score(y_test, y_pred))\n",
        "print(\"\\nRelatório de Classificação:\\n\", classification_report(y_test, y_pred))\n"
      ]
    },
    {
      "cell_type": "code",
      "execution_count": null,
      "id": "new-prediction",
      "metadata": {},
      "outputs": [],
      "source": [
        "# Exemplo de uso: previsões para novos dados\n",
        "novos_dados = pd.DataFrame({\n",
        "    'idade': [30, 50],\n",
        "    'salario_anual': [50000, 120000],\n",
        "    'divida': [5000, 15000],\n",
        "    'historico_credito': [1, 0]\n",
        "})\n",
        "\n",
        "# Normalizando os novos dados e fazendo previsões\n",
        "novos_dados_scaled = scaler.transform(novos_dados)\n",
        "previsoes = model.predict(novos_dados_scaled)\n",
        "\n",
        "print(\"\\nPrevisões para novos clientes (0 = Não Calote, 1 = Calote):\", previsoes)\n"
      ]
    }
  ]
}
